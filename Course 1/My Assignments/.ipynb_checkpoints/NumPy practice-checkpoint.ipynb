{
 "cells": [
  {
   "cell_type": "code",
   "execution_count": 1,
   "metadata": {},
   "outputs": [],
   "source": [
    "import math\n",
    "import numpy"
   ]
  },
  {
   "cell_type": "markdown",
   "metadata": {},
   "source": [
    "# Решение СЛАУ"
   ]
  },
  {
   "cell_type": "code",
   "execution_count": 2,
   "metadata": {},
   "outputs": [
    {
     "name": "stdout",
     "output_type": "stream",
     "text": [
      "Введите количество уравнений системы\n",
      "2\n"
     ]
    }
   ],
   "source": [
    "print ('Введите количество уравнений системы')\n",
    "i = input()"
   ]
  },
  {
   "cell_type": "code",
   "execution_count": 106,
   "metadata": {},
   "outputs": [],
   "source": [
    "size = int(i)\n",
    "matrix  = numpy.arange(size*(size + 1), dtype = float).reshape(size,size + 1)"
   ]
  },
  {
   "cell_type": "code",
   "execution_count": 107,
   "metadata": {},
   "outputs": [
    {
     "name": "stdout",
     "output_type": "stream",
     "text": [
      "1 2 3\n",
      "4 5 6\n"
     ]
    }
   ],
   "source": [
    "for q in range(0,size):\n",
    "    x = [float(t) for t in input().split()]\n",
    "    k = 0\n",
    "    while k < size + 1:\n",
    "        for j in range (0,size + 1):\n",
    "            matrix[q][j] = x[k]\n",
    "            k = k+1 "
   ]
  },
  {
   "cell_type": "code",
   "execution_count": 108,
   "metadata": {},
   "outputs": [],
   "source": [
    "M1 = matrix[:,0:size]\n",
    "v1 = matrix[:,-1]"
   ]
  },
  {
   "cell_type": "code",
   "execution_count": 109,
   "metadata": {},
   "outputs": [
    {
     "name": "stdout",
     "output_type": "stream",
     "text": [
      "-1.0 2.0\n"
     ]
    }
   ],
   "source": [
    "det = numpy.linalg.det(M1)\n",
    "if (det == 0):\n",
    "    print('Система не имеет решений')\n",
    "else:\n",
    "    r = numpy.linalg.solve(M1,v1)\n",
    "    print(\" \".join(str(x) for x in r))"
   ]
  },
  {
   "cell_type": "markdown",
   "metadata": {},
   "source": [
    "# Задача 4.2- Записать систему уравнений"
   ]
  },
  {
   "cell_type": "code",
   "execution_count": null,
   "metadata": {},
   "outputs": [],
   "source": [
    "#В классе a учеников. Среди них есть девочки и мальчики.\n",
    "#Девочек больше чем мальчиков на b человека. Сколько мальчиков и девочек в этом классе?\n",
    "\n",
    "#Программа должна принимать на вход 1 строку из 2 натуральных числа, разделённых пробелом.\n",
    "#На выходе программа должна выдавать число девочек и число мальчиков (через пробел), либо строку \"Такой класс не существует\"."
   ]
  },
  {
   "cell_type": "code",
   "execution_count": null,
   "metadata": {},
   "outputs": [],
   "source": [
    "size = 2\n",
    "matrix  = numpy.arange(size*(size + 1), dtype = float).reshape(size,size + 1)"
   ]
  },
  {
   "cell_type": "code",
   "execution_count": 66,
   "metadata": {},
   "outputs": [],
   "source": [
    "M1 = numpy.arange(4).reshape(2,2)\n",
    "v1 = numpy.arange(2).reshape(2,1)\n",
    "M1 = [[1,1],[1,-1]]\n"
   ]
  },
  {
   "cell_type": "code",
   "execution_count": 67,
   "metadata": {},
   "outputs": [
    {
     "name": "stdout",
     "output_type": "stream",
     "text": [
      "Введите a и b\n",
      "20 5\n"
     ]
    }
   ],
   "source": [
    "print('Введите a и b')\n",
    "x = [int(t) for t in input().split()]\n",
    "v1[0]=x[0]\n",
    "v1[1]=x[1]"
   ]
  },
  {
   "cell_type": "code",
   "execution_count": 73,
   "metadata": {},
   "outputs": [
    {
     "name": "stdout",
     "output_type": "stream",
     "text": [
      "Такой класс не существует\n"
     ]
    }
   ],
   "source": [
    "det = numpy.linalg.det(M1)\n",
    "if ((det == 0)):\n",
    "    print('Такой класс не существует')\n",
    "else:\n",
    "    r = numpy.linalg.solve(M1,v1)\n",
    "    if ((r[1]<0) or (r[0]<0) or (r[0]+r[1] <0) or (r[0]%2!=0)):\n",
    "        print('Такой класс не существует')\n",
    "    else:\n",
    "        print(\" \".join(str(int(x)) for x in r))"
   ]
  },
  {
   "cell_type": "markdown",
   "metadata": {},
   "source": [
    "# Задача 5 - Найти коэффициенты многочлена"
   ]
  },
  {
   "cell_type": "code",
   "execution_count": 200,
   "metadata": {},
   "outputs": [],
   "source": [
    "import numpy"
   ]
  },
  {
   "cell_type": "code",
   "execution_count": 188,
   "metadata": {},
   "outputs": [
    {
     "name": "stdout",
     "output_type": "stream",
     "text": [
      "3\n"
     ]
    }
   ],
   "source": [
    "i = input()"
   ]
  },
  {
   "cell_type": "code",
   "execution_count": 189,
   "metadata": {},
   "outputs": [],
   "source": [
    "size = int(i)\n",
    "matrix  = numpy.arange((size*3), dtype = float).reshape(size,3)\n",
    "for i in range(0,size):\n",
    "    matrix[i:] =1"
   ]
  },
  {
   "cell_type": "code",
   "execution_count": 191,
   "metadata": {},
   "outputs": [
    {
     "name": "stdout",
     "output_type": "stream",
     "text": [
      "-2 0\n",
      "2 0\n",
      "0 -4\n"
     ]
    }
   ],
   "source": [
    "for q in range(0,size):\n",
    "    x = [float(t) for t in input().split()]\n",
    "    k = 0\n",
    "    while k < 2 :\n",
    "        for j in range (1,3):\n",
    "            matrix[q][j] = x[k]\n",
    "            k = k+1 "
   ]
  },
  {
   "cell_type": "code",
   "execution_count": 193,
   "metadata": {},
   "outputs": [
    {
     "data": {
      "text/plain": [
       "array([[ 1., -2.,  0.,  0.],\n",
       "       [ 1.,  2.,  0.,  0.],\n",
       "       [ 1.,  0., -4., -4.]])"
      ]
     },
     "execution_count": 193,
     "metadata": {},
     "output_type": "execute_result"
    }
   ],
   "source": [
    "diff = size -2\n",
    "v = matrix[:,-1].reshape(size,1)\n",
    "for i in range(0,diff):\n",
    "    matrix = numpy.append(matrix,v, axis =1)\n",
    "matrix"
   ]
  },
  {
   "cell_type": "code",
   "execution_count": 194,
   "metadata": {},
   "outputs": [],
   "source": [
    "for i in range(0,size):\n",
    "    for j in range(2,size):\n",
    "        matrix[i][j]=matrix[i][1]**j"
   ]
  },
  {
   "cell_type": "code",
   "execution_count": 196,
   "metadata": {},
   "outputs": [],
   "source": [
    "M1 = matrix[:,0:size]\n",
    "v1 = matrix[:,-1]\n"
   ]
  },
  {
   "cell_type": "code",
   "execution_count": 199,
   "metadata": {},
   "outputs": [
    {
     "name": "stdout",
     "output_type": "stream",
     "text": [
      "-4.0 0.0 1.0\n"
     ]
    }
   ],
   "source": [
    "det = numpy.linalg.det(M1)\n",
    "if (det == 0):\n",
    "    print('Система не имеет решений')\n",
    "else:\n",
    "    r = numpy.linalg.solve(M1,v1)\n",
    "    print(\" \".join(str(x) for x in r))"
   ]
  },
  {
   "cell_type": "code",
   "execution_count": null,
   "metadata": {},
   "outputs": [],
   "source": [
    "\n"
   ]
  },
  {
   "cell_type": "code",
   "execution_count": null,
   "metadata": {},
   "outputs": [],
   "source": []
  },
  {
   "cell_type": "code",
   "execution_count": null,
   "metadata": {},
   "outputs": [],
   "source": []
  },
  {
   "cell_type": "code",
   "execution_count": null,
   "metadata": {},
   "outputs": [],
   "source": []
  }
 ],
 "metadata": {
  "kernelspec": {
   "display_name": "Python 3",
   "language": "python",
   "name": "python3"
  },
  "language_info": {
   "codemirror_mode": {
    "name": "ipython",
    "version": 3
   },
   "file_extension": ".py",
   "mimetype": "text/x-python",
   "name": "python",
   "nbconvert_exporter": "python",
   "pygments_lexer": "ipython3",
   "version": "3.6.5"
  }
 },
 "nbformat": 4,
 "nbformat_minor": 2
}
